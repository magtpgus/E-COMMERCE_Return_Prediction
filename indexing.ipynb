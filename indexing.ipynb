{
 "cells": [
  {
   "cell_type": "code",
   "execution_count": 2,
   "id": "a180fa80",
   "metadata": {},
   "outputs": [],
   "source": [
    "import pandas as pd\n",
    "import numpy as np\n",
    "import seaborn as sns"
   ]
  },
  {
   "cell_type": "code",
   "execution_count": 2,
   "id": "952993ed",
   "metadata": {},
   "outputs": [
    {
     "name": "stdout",
     "output_type": "stream",
     "text": [
      "/data/home/ksh0511/AI502\n"
     ]
    }
   ],
   "source": [
    "%cd /data/home/ksh0511/AI502"
   ]
  },
  {
   "cell_type": "code",
   "execution_count": 7,
   "id": "c0b81270",
   "metadata": {},
   "outputs": [
    {
     "name": "stdout",
     "output_type": "stream",
     "text": [
      "          order  product  customer  color  size  group\n",
      "0        391395    20019    106251    557    21     15\n",
      "1        391395    20114    106251    396    21     15\n",
      "2        112116    45195    135056    243    24     23\n",
      "3        112116     6117    135056    338    24     23\n",
      "4        739883      622    233090    586    25     23\n",
      "...         ...      ...       ...    ...   ...    ...\n",
      "2666257  576096     9045     15446    462    24      8\n",
      "2666258  314874    20257    217058    437    21     15\n",
      "2666259  314874    40360    217058     65    25     15\n",
      "2666260  314874    46311    217058    460    25      8\n",
      "2666261  532104    39073    267415    499    24      7\n",
      "\n",
      "[2666262 rows x 6 columns]\n"
     ]
    }
   ],
   "source": [
    "import os\n",
    "from io import StringIO\n",
    "path = 'term_pj'\n",
    "file_name = '/task2_data.txt'\n",
    "file_path = path + file_name\n",
    "# 파일 열기 및 내용 읽기\n",
    "with open(file_path, 'r') as file:\n",
    "    file_content = file.read()\n",
    "lines = file_content.strip().split('\\n')\n",
    "df = pd.read_csv(StringIO('\\n'.join(lines)))\n",
    "\n",
    "# 'color'와 'size' 열을 정수형으로 변환\n",
    "df['color'] = df['color'].astype(int)\n",
    "df['size'] = df['size'].astype(int)\n",
    "\n",
    "# DataFrame 출력\n",
    "print(df)"
   ]
  },
  {
   "cell_type": "code",
   "execution_count": 8,
   "id": "45765481",
   "metadata": {},
   "outputs": [
    {
     "name": "stdout",
     "output_type": "stream",
     "text": [
      "1866383\n"
     ]
    }
   ],
   "source": [
    "path = 'term_pj'\n",
    "file_name = '/task2_train_label.txt'\n",
    "file_path = path + file_name\n",
    "with open(file_path, 'r') as file:\n",
    "    file_content = file.read()\n",
    "lines_train_label = file_content.strip().split('\\n')\n",
    "print(len(lines_train_label))\n"
   ]
  },
  {
   "cell_type": "code",
   "execution_count": 9,
   "id": "c17917c1",
   "metadata": {},
   "outputs": [
    {
     "data": {
      "text/plain": [
       "2266323"
      ]
     },
     "execution_count": 9,
     "metadata": {},
     "output_type": "execute_result"
    }
   ],
   "source": [
    "path = 'term_pj'\n",
    "file_name = '/task2_valid_label.txt'\n",
    "file_path = path + file_name\n",
    "\n",
    "with open(file_path, 'r') as file:\n",
    "    file_content = file.read()\n",
    "lines_valid_label = file_content.strip().split('\\n')\n",
    "\n",
    "# train label  + valid label\n",
    "lines_label=lines_valid_label+lines_train_label\n",
    "len(lines_label)"
   ]
  },
  {
   "cell_type": "code",
   "execution_count": 10,
   "id": "2024b36c",
   "metadata": {},
   "outputs": [],
   "source": [
    "# 라벨 데이터를 DataFrame에 추가\n",
    "label_df = pd.DataFrame([x.split('\\t') for x in lines_label], columns=['order','product', 'label'])\n",
    "label_df['label'] = label_df['label'].astype(int)\n",
    "label_df['product'] = label_df['product'].astype(int)\n",
    "label_df['order'] =label_df['order'].astype(int)\n",
    "# df DataFrame과 label_df DataFrame을 product와 customer 열을 기준으로 병합\n",
    "merged_df = pd.merge(df, label_df, on=['order','product'], how='left')\n"
   ]
  },
  {
   "cell_type": "code",
   "execution_count": null,
   "id": "93264de4",
   "metadata": {},
   "outputs": [],
   "source": [
    "\n",
    "train_valid_df = merged_df.dropna(subset=['label'])\n",
    "\n",
    "# label 컬럼의 데이터 타입을 정수형으로 변환\n",
    "train_valid_df['label'] =train_valid_df['label'].astype(int)\n",
    "train_valid_df"
   ]
  },
  {
   "cell_type": "code",
   "execution_count": null,
   "id": "a254b798",
   "metadata": {},
   "outputs": [],
   "source": [
    "train_valid_df.to_csv('train_valid_drop.csv', index=False)"
   ]
  },
  {
   "cell_type": "code",
   "execution_count": null,
   "id": "e469afa7",
   "metadata": {},
   "outputs": [],
   "source": []
  },
  {
   "cell_type": "markdown",
   "id": "b85c7ba3",
   "metadata": {},
   "source": [
    "# 통합된 인덱싱 파일 -> train / valid 데이터 분할"
   ]
  },
  {
   "cell_type": "code",
   "execution_count": 4,
   "id": "b30be3e9",
   "metadata": {},
   "outputs": [],
   "source": [
    "order_data = pd.read_csv(\"train_valid_drop.csv\", encoding='cp949')\n",
    "data_x = order_data.iloc[:, 1:-1]  # 마지막 컬럼(label)을 제외한 데이터\n",
    "data_y = order_data.iloc[:, -1]   # 마지막 컬럼(label)만 라벨로 저장"
   ]
  },
  {
   "cell_type": "code",
   "execution_count": 8,
   "id": "dac45d8e",
   "metadata": {},
   "outputs": [
    {
     "data": {
      "text/html": [
       "<div>\n",
       "<style scoped>\n",
       "    .dataframe tbody tr th:only-of-type {\n",
       "        vertical-align: middle;\n",
       "    }\n",
       "\n",
       "    .dataframe tbody tr th {\n",
       "        vertical-align: top;\n",
       "    }\n",
       "\n",
       "    .dataframe thead th {\n",
       "        text-align: right;\n",
       "    }\n",
       "</style>\n",
       "<table border=\"1\" class=\"dataframe\">\n",
       "  <thead>\n",
       "    <tr style=\"text-align: right;\">\n",
       "      <th></th>\n",
       "      <th>order</th>\n",
       "      <th>product</th>\n",
       "      <th>customer</th>\n",
       "      <th>color</th>\n",
       "      <th>size</th>\n",
       "      <th>group</th>\n",
       "      <th>label</th>\n",
       "    </tr>\n",
       "  </thead>\n",
       "  <tbody>\n",
       "    <tr>\n",
       "      <th>0</th>\n",
       "      <td>391395</td>\n",
       "      <td>20019</td>\n",
       "      <td>106251</td>\n",
       "      <td>557</td>\n",
       "      <td>21</td>\n",
       "      <td>15</td>\n",
       "      <td>0</td>\n",
       "    </tr>\n",
       "    <tr>\n",
       "      <th>1</th>\n",
       "      <td>112116</td>\n",
       "      <td>45195</td>\n",
       "      <td>135056</td>\n",
       "      <td>243</td>\n",
       "      <td>24</td>\n",
       "      <td>23</td>\n",
       "      <td>0</td>\n",
       "    </tr>\n",
       "    <tr>\n",
       "      <th>2</th>\n",
       "      <td>112116</td>\n",
       "      <td>6117</td>\n",
       "      <td>135056</td>\n",
       "      <td>338</td>\n",
       "      <td>24</td>\n",
       "      <td>23</td>\n",
       "      <td>1</td>\n",
       "    </tr>\n",
       "    <tr>\n",
       "      <th>3</th>\n",
       "      <td>739883</td>\n",
       "      <td>35070</td>\n",
       "      <td>233090</td>\n",
       "      <td>557</td>\n",
       "      <td>25</td>\n",
       "      <td>23</td>\n",
       "      <td>0</td>\n",
       "    </tr>\n",
       "    <tr>\n",
       "      <th>4</th>\n",
       "      <td>739883</td>\n",
       "      <td>37297</td>\n",
       "      <td>233090</td>\n",
       "      <td>472</td>\n",
       "      <td>25</td>\n",
       "      <td>23</td>\n",
       "      <td>0</td>\n",
       "    </tr>\n",
       "    <tr>\n",
       "      <th>...</th>\n",
       "      <td>...</td>\n",
       "      <td>...</td>\n",
       "      <td>...</td>\n",
       "      <td>...</td>\n",
       "      <td>...</td>\n",
       "      <td>...</td>\n",
       "      <td>...</td>\n",
       "    </tr>\n",
       "    <tr>\n",
       "      <th>2266318</th>\n",
       "      <td>576096</td>\n",
       "      <td>9045</td>\n",
       "      <td>15446</td>\n",
       "      <td>462</td>\n",
       "      <td>24</td>\n",
       "      <td>8</td>\n",
       "      <td>1</td>\n",
       "    </tr>\n",
       "    <tr>\n",
       "      <th>2266319</th>\n",
       "      <td>314874</td>\n",
       "      <td>20257</td>\n",
       "      <td>217058</td>\n",
       "      <td>437</td>\n",
       "      <td>21</td>\n",
       "      <td>15</td>\n",
       "      <td>0</td>\n",
       "    </tr>\n",
       "    <tr>\n",
       "      <th>2266320</th>\n",
       "      <td>314874</td>\n",
       "      <td>40360</td>\n",
       "      <td>217058</td>\n",
       "      <td>65</td>\n",
       "      <td>25</td>\n",
       "      <td>15</td>\n",
       "      <td>0</td>\n",
       "    </tr>\n",
       "    <tr>\n",
       "      <th>2266321</th>\n",
       "      <td>314874</td>\n",
       "      <td>46311</td>\n",
       "      <td>217058</td>\n",
       "      <td>460</td>\n",
       "      <td>25</td>\n",
       "      <td>8</td>\n",
       "      <td>0</td>\n",
       "    </tr>\n",
       "    <tr>\n",
       "      <th>2266322</th>\n",
       "      <td>532104</td>\n",
       "      <td>39073</td>\n",
       "      <td>267415</td>\n",
       "      <td>499</td>\n",
       "      <td>24</td>\n",
       "      <td>7</td>\n",
       "      <td>0</td>\n",
       "    </tr>\n",
       "  </tbody>\n",
       "</table>\n",
       "<p>2266323 rows × 7 columns</p>\n",
       "</div>"
      ],
      "text/plain": [
       "          order  product  customer  color  size  group  label\n",
       "0        391395    20019    106251    557    21     15      0\n",
       "1        112116    45195    135056    243    24     23      0\n",
       "2        112116     6117    135056    338    24     23      1\n",
       "3        739883    35070    233090    557    25     23      0\n",
       "4        739883    37297    233090    472    25     23      0\n",
       "...         ...      ...       ...    ...   ...    ...    ...\n",
       "2266318  576096     9045     15446    462    24      8      1\n",
       "2266319  314874    20257    217058    437    21     15      0\n",
       "2266320  314874    40360    217058     65    25     15      0\n",
       "2266321  314874    46311    217058    460    25      8      0\n",
       "2266322  532104    39073    267415    499    24      7      0\n",
       "\n",
       "[2266323 rows x 7 columns]"
      ]
     },
     "execution_count": 8,
     "metadata": {},
     "output_type": "execute_result"
    }
   ],
   "source": [
    "order_data"
   ]
  },
  {
   "cell_type": "code",
   "execution_count": 9,
   "id": "a464a519",
   "metadata": {},
   "outputs": [
    {
     "name": "stdout",
     "output_type": "stream",
     "text": [
      "<class 'pandas.core.frame.DataFrame'>\n",
      "RangeIndex: 2266323 entries, 0 to 2266322\n",
      "Data columns (total 7 columns):\n",
      " #   Column    Dtype\n",
      "---  ------    -----\n",
      " 0   order     int64\n",
      " 1   product   int64\n",
      " 2   customer  int64\n",
      " 3   color     int64\n",
      " 4   size      int64\n",
      " 5   group     int64\n",
      " 6   label     int64\n",
      "dtypes: int64(7)\n",
      "memory usage: 121.0 MB\n"
     ]
    }
   ],
   "source": [
    "order_data.info()"
   ]
  },
  {
   "cell_type": "markdown",
   "id": "e7aefdce",
   "metadata": {},
   "source": [
    "# Size Distribution by Group')"
   ]
  },
  {
   "cell_type": "code",
   "execution_count": 10,
   "id": "3794524d",
   "metadata": {
    "scrolled": true
   },
   "outputs": [
    {
     "data": {
      "image/png": "[encoded data removed]",
      "text/plain": [
       "<Figure size 432x288 with 1 Axes>"
      ]
     },
     "metadata": {
      "needs_background": "light"
     },
     "output_type": "display_data"
    }
   ],
   "source": [
    "import seaborn as sns\n",
    "import matplotlib.pyplot as plt\n",
    "\n",
    "sns.countplot(x='size', hue='group', data=order_data)\n",
    "plt.title('Size Distribution by Group')\n",
    "plt.xlabel('Size')\n",
    "plt.ylabel('Count')\n",
    "plt.show()"
   ]
  },
  {
   "cell_type": "code",
   "execution_count": 11,
   "id": "b40238c1",
   "metadata": {},
   "outputs": [
    {
     "name": "stdout",
     "output_type": "stream",
     "text": [
      "    Group                                       Color Values  Color Count  \\\n",
      "0       0                          [292, 315, 378, 460, 461]            5   \n",
      "1       1                                              [450]            1   \n",
      "2       2                                              [581]            1   \n",
      "3       3                                              [581]            1   \n",
      "4       4  [6, 20, 25, 33, 40, 48, 51, 59, 65, 70, 76, 77...           89   \n",
      "5       5  [22, 29, 50, 86, 89, 94, 115, 120, 127, 129, 1...           33   \n",
      "6       6                                              [581]            1   \n",
      "7       7  [0, 6, 20, 48, 49, 70, 79, 82, 106, 109, 110, ...           70   \n",
      "8       8  [2, 4, 13, 22, 29, 86, 89, 94, 107, 115, 120, ...           42   \n",
      "9       9  [1, 6, 7, 9, 10, 17, 18, 20, 31, 32, 34, 35, 3...          220   \n",
      "10     10  [8, 37, 106, 126, 137, 138, 166, 180, 181, 197...           34   \n",
      "11     11                                              [437]            1   \n",
      "12     12  [3, 9, 14, 15, 26, 38, 43, 48, 59, 65, 70, 75,...          101   \n",
      "13     13  [4, 23, 86, 89, 115, 129, 191, 276, 281, 292, ...           26   \n",
      "14     14  [8, 19, 20, 24, 59, 70, 79, 106, 110, 126, 137...           63   \n",
      "15     15  [3, 9, 11, 12, 21, 24, 25, 27, 30, 33, 40, 43,...          247   \n",
      "16     16  [197, 209, 211, 237, 247, 319, 352, 356, 376, ...           22   \n",
      "17     17                                [89, 115, 292, 315]            4   \n",
      "18     18  [3, 20, 43, 48, 53, 59, 62, 65, 70, 77, 83, 95...          104   \n",
      "19     19  [2, 29, 89, 115, 120, 281, 292, 306, 316, 321,...           12   \n",
      "20     20  [4, 13, 56, 89, 94, 115, 142, 281, 292, 315, 3...           18   \n",
      "21     21  [4, 23, 86, 89, 115, 129, 191, 292, 306, 315, ...           24   \n",
      "22     22  [2, 4, 13, 23, 29, 56, 69, 78, 86, 89, 115, 15...           37   \n",
      "23     23  [3, 9, 12, 16, 20, 33, 40, 48, 51, 52, 53, 55,...          191   \n",
      "24     24  [12, 24, 27, 28, 47, 48, 59, 70, 77, 79, 91, 9...           83   \n",
      "25     25  [22, 29, 50, 57, 94, 107, 127, 142, 248, 263, ...           28   \n",
      "26     26                                [13, 115, 347, 358]            4   \n",
      "27     27  [27, 28, 48, 49, 70, 73, 79, 98, 106, 132, 133...          105   \n",
      "28     28                                              [537]            1   \n",
      "29     29  [2, 5, 23, 41, 89, 147, 191, 214, 263, 274, 29...           21   \n",
      "30     30  [9, 24, 27, 28, 30, 48, 49, 58, 59, 70, 79, 95...          121   \n",
      "31     31  [3, 9, 12, 16, 27, 28, 30, 33, 40, 43, 48, 49,...          190   \n",
      "\n",
      "                                          Size Values  Size Count  \n",
      "0                            [15, 19, 21, 23, 24, 25]           6  \n",
      "1                                                 [0]           1  \n",
      "2                                                 [0]           1  \n",
      "3                                                 [0]           1  \n",
      "4                            [15, 19, 21, 23, 24, 25]           6  \n",
      "5                            [15, 19, 21, 23, 24, 25]           6  \n",
      "6                                                 [0]           1  \n",
      "7                            [15, 19, 21, 23, 24, 25]           6  \n",
      "8                            [15, 19, 21, 23, 24, 25]           6  \n",
      "9          [2, 4, 10, 12, 13, 14, 18, 20, 23, 26, 28]          11  \n",
      "10                           [15, 19, 21, 23, 24, 25]           6  \n",
      "11                                               [15]           1  \n",
      "12                       [14, 15, 19, 21, 23, 24, 25]           7  \n",
      "13                           [15, 19, 21, 23, 24, 25]           6  \n",
      "14                 [3, 8, 11, 15, 19, 21, 23, 24, 25]           9  \n",
      "15                           [15, 19, 21, 23, 24, 25]           6  \n",
      "16                           [15, 19, 21, 23, 24, 25]           6  \n",
      "17                           [15, 19, 21, 23, 24, 25]           6  \n",
      "18                       [14, 15, 19, 21, 23, 24, 25]           7  \n",
      "19                           [15, 19, 21, 23, 24, 25]           6  \n",
      "20                           [15, 19, 21, 23, 24, 25]           6  \n",
      "21                           [15, 19, 21, 23, 24, 25]           6  \n",
      "22  [2, 4, 10, 12, 13, 14, 15, 18, 19, 20, 21, 23,...          16  \n",
      "23                           [15, 19, 21, 23, 24, 25]           6  \n",
      "24                           [15, 19, 21, 23, 24, 25]           6  \n",
      "25                                                [0]           1  \n",
      "26                       [14, 15, 19, 21, 23, 24, 25]           7  \n",
      "27                           [15, 19, 21, 23, 24, 25]           6  \n",
      "28                                                [0]           1  \n",
      "29                 [0, 1, 3, 5, 6, 8, 11, 16, 22, 27]          10  \n",
      "30                           [15, 19, 21, 23, 24, 25]           6  \n",
      "31  [0, 1, 3, 5, 6, 7, 8, 9, 11, 15, 16, 17, 19, 2...          19  \n"
     ]
    }
   ],
   "source": [
    "import pandas as pd\n",
    "\n",
    "group_summary_data = []\n",
    "\n",
    "for group in range(32):\n",
    "    group_data = order_data[order_data['group'] == group]\n",
    "    \n",
    "    color_values = sorted(group_data['color'].unique())\n",
    "    size_values = sorted(group_data['size'].unique())\n",
    "    \n",
    "    color_count = len(color_values)\n",
    "    size_count = len(size_values)\n",
    "    \n",
    "    group_summary_data.append({'Group': group, 'Color Values': color_values, 'Color Count': color_count,\n",
    "                               'Size Values': size_values, 'Size Count': size_count})\n",
    "\n",
    "group_summary = pd.DataFrame(group_summary_data)\n",
    "\n",
    "# 결과 출력\n",
    "print(group_summary)\n"
   ]
  },
  {
   "cell_type": "markdown",
   "id": "87bdef8d",
   "metadata": {},
   "source": [
    "# indexing"
   ]
  },
  {
   "cell_type": "code",
   "execution_count": 12,
   "id": "71c47dda",
   "metadata": {},
   "outputs": [
    {
     "name": "stdout",
     "output_type": "stream",
     "text": [
      "       group  color  size\n",
      "0          0    292    15\n",
      "1          0    292    19\n",
      "2          0    292    21\n",
      "3          0    292    23\n",
      "4          0    292    24\n",
      "...      ...    ...   ...\n",
      "15647     31    638    22\n",
      "15648     31    638    23\n",
      "15649     31    638    24\n",
      "15650     31    638    25\n",
      "15651     31    638    27\n",
      "\n",
      "[15652 rows x 3 columns]\n"
     ]
    }
   ],
   "source": [
    "# 새로운 데이터프레임을 저장할 리스트\n",
    "new_data = []\n",
    "\n",
    "for group in range(32):\n",
    "    # 각 그룹에 대한 데이터 추출\n",
    "    group_data = order_data[order_data['group'] == group]\n",
    "    \n",
    "    # 색상 및 사이즈의 값들을 추출하여 정렬\n",
    "    color_values = sorted(group_data['color'].unique())\n",
    "    size_values = sorted(group_data['size'].unique())\n",
    "    \n",
    "    # 색상 및 사이즈의 모든 조합에 대해 새로운 행 생성\n",
    "    for color in color_values:\n",
    "        for size in size_values:\n",
    "            new_data.append({'group': group, 'color': color, 'size': size})\n",
    "\n",
    "# 리스트를 데이터프레임으로 변환\n",
    "new_df = pd.DataFrame(new_data)\n",
    "\n",
    "# 결과 출력\n",
    "print(new_df)"
   ]
  },
  {
   "cell_type": "code",
   "execution_count": 13,
   "id": "02ee28c7",
   "metadata": {},
   "outputs": [
    {
     "name": "stdout",
     "output_type": "stream",
     "text": [
      "          order  product  customer  color  size  group  label  indexing\n",
      "0        652386    32929    214914    292    15      0      0         0\n",
      "1        522832    32929     11357    292    15      0      1         0\n",
      "2         94970    32929    280516    292    15      0      0         0\n",
      "3        158329    32929    103604    292    15      0      0         0\n",
      "4        797773    32929    281744    292    15      0      1         0\n",
      "...         ...      ...       ...    ...   ...    ...    ...       ...\n",
      "2270632  316498    13947     73249    638     9     31      0     15640\n",
      "2270633  542028    13947     90144    638     9     31      1     15640\n",
      "2270634  133479    13947     57744    638     9     31      0     15640\n",
      "2270635  657114    13947     77069    638     9     31      0     15640\n",
      "2270636  387788    13947    133373    638     9     31      0     15640\n",
      "\n",
      "[2266323 rows x 8 columns]\n"
     ]
    }
   ],
   "source": [
    "new_df['indexing'] = new_df.reset_index().index\n",
    "\n",
    "# 새로운 데이터프레임과 주어진 데이터프레임 간의 매핑 수행\n",
    "merged_df = pd.merge(order_data, new_df, on=['group', 'color', 'size'], how='right')\n",
    "merged_df.dropna(inplace=True)\n",
    "\n",
    "# 모든 컬럼의 데이터 타입을 int로 변환\n",
    "merged_df = merged_df.astype(int)\n",
    "\n",
    "# 결과 출력\n",
    "print(merged_df)"
   ]
  },
  {
   "cell_type": "code",
   "execution_count": 14,
   "id": "6aacd2a8",
   "metadata": {},
   "outputs": [],
   "source": [
    "merged_df.to_csv('train_valid_drop_indexing.csv', index=False)"
   ]
  },
  {
   "cell_type": "markdown",
   "id": "67525b91",
   "metadata": {},
   "source": [
    "# valid data indexing"
   ]
  },
  {
   "cell_type": "code",
   "execution_count": 15,
   "id": "9622b228",
   "metadata": {},
   "outputs": [],
   "source": [
    "path = 'term_pj'\n",
    "file_name = '/task2_valid_label.txt'\n",
    "file_path = path + file_name\n",
    "with open(file_path, 'r') as file:\n",
    "    file_content = file.read()\n",
    "lines_valid_label = file_content.strip().split('\\n')\n"
   ]
  },
  {
   "cell_type": "code",
   "execution_count": 16,
   "id": "514fb928",
   "metadata": {},
   "outputs": [
    {
     "name": "stdout",
     "output_type": "stream",
     "text": [
      "['479016\\t11608\\t0', '673630\\t25789\\t0', '562150\\t33265\\t1', '159431\\t14148\\t1', '637122\\t56999\\t1', '728414\\t51540\\t0', '207131\\t49465\\t0', '663331\\t27141\\t1', '777923\\t50695\\t0', '473084\\t47334\\t1', '177980\\t57209\\t1', '510271\\t47558\\t0', '674137\\t12368\\t1', '339543\\t25630\\t1', '180241\\t22816\\t0', '251446\\t14717\\t0', '63727\\t38309\\t1', '702846\\t41225\\t0', '197925\\t1072\\t1', '642034\\t26925\\t1', '441595\\t35437\\t0', '767755\\t5505\\t1', '277632\\t45018\\t1', '304679\\t962\\t0', '19393\\t17003\\t1', '95131\\t43976\\t0', '651382\\t35711\\t0', '608253\\t51375\\t0', '459938\\t12589\\t1', '466978\\t57066\\t0']\n"
     ]
    }
   ],
   "source": [
    "print(lines_valid_label[:30]) #399940"
   ]
  },
  {
   "cell_type": "code",
   "execution_count": 18,
   "id": "7a7d7719",
   "metadata": {},
   "outputs": [
    {
     "name": "stdout",
     "output_type": "stream",
     "text": [
      "         order  product  customer  color  size  group  label  indexing\n",
      "0        94970    32929    280516    292    15      0      0         0\n",
      "1       797773    32929    281744    292    15      0      1         0\n",
      "2       221904    14102     30635    315    15      0      1         6\n",
      "3       160097     3812     71524    315    19      0      0         7\n",
      "4       201203    22735     99063    315    21      0      0         8\n",
      "...        ...      ...       ...    ...   ...    ...    ...       ...\n",
      "399935  147828    13947    121109    638     9     31      0     15640\n",
      "399936   98853    13947    284095    638     9     31      0     15640\n",
      "399937  811643    13947     90790    638     9     31      0     15640\n",
      "399938  229147    13947    195505    638     9     31      1     15640\n",
      "399939  133479    13947     57744    638     9     31      0     15640\n",
      "\n",
      "[399940 rows x 8 columns]\n"
     ]
    }
   ],
   "source": [
    "mapping_valid_df = pd.DataFrame([x.split('\\t') for x in lines_valid_label], columns=['order', 'product', 'label'])\n",
    "\n",
    "# 데이터 타입 변환\n",
    "mapping_valid_df['order'] = mapping_valid_df['order'].astype(int)\n",
    "mapping_valid_df['product'] = mapping_valid_df['product'].astype(int)\n",
    "mapping_valid_df['label'] = mapping_valid_df['label'].astype(int)\n",
    "# 조건에 맞는 행 필터링\n",
    "filtered_valid_data = merged_df.merge(mapping_valid_df, on=['order', 'product','label'], how='inner')\n",
    "\n",
    "print(filtered_valid_data)"
   ]
  },
  {
   "cell_type": "code",
   "execution_count": 19,
   "id": "b6fbb83c",
   "metadata": {},
   "outputs": [],
   "source": [
    "filtered_valid_data.to_csv('valid_indexing.csv', index=False)"
   ]
  },
  {
   "cell_type": "markdown",
   "id": "159cd955",
   "metadata": {},
   "source": [
    "# train data indexing"
   ]
  },
  {
   "cell_type": "code",
   "execution_count": 20,
   "id": "25abc80f",
   "metadata": {},
   "outputs": [
    {
     "name": "stdout",
     "output_type": "stream",
     "text": [
      "1866383\n"
     ]
    }
   ],
   "source": [
    "path = 'term_pj'\n",
    "file_name = '/task2_train_label.txt'\n",
    "file_path = path + file_name\n",
    "with open(file_path, 'r') as file:\n",
    "    file_content = file.read()\n",
    "lines_train_label = file_content.strip().split('\\n')\n",
    "print(len(lines_train_label))\n"
   ]
  },
  {
   "cell_type": "code",
   "execution_count": 21,
   "id": "0cc59e1a",
   "metadata": {},
   "outputs": [
    {
     "name": "stdout",
     "output_type": "stream",
     "text": [
      "          order  product  customer  color  size  group  label  indexing\n",
      "0        652386    32929    214914    292    15      0      0         0\n",
      "1        522832    32929     11357    292    15      0      1         0\n",
      "2        158329    32929    103604    292    15      0      0         0\n",
      "3        147612    32929    100558    292    15      0      0         0\n",
      "4        457097    55910    227708    292    19      0      0         1\n",
      "...         ...      ...       ...    ...   ...    ...    ...       ...\n",
      "1866378  466738    13947    120242    638     9     31      1     15640\n",
      "1866379  316498    13947     73249    638     9     31      0     15640\n",
      "1866380  542028    13947     90144    638     9     31      1     15640\n",
      "1866381  657114    13947     77069    638     9     31      0     15640\n",
      "1866382  387788    13947    133373    638     9     31      0     15640\n",
      "\n",
      "[1866383 rows x 8 columns]\n"
     ]
    }
   ],
   "source": [
    "mapping_train_df = pd.DataFrame([x.split('\\t') for x in lines_train_label], columns=['order', 'product', 'label'])\n",
    "\n",
    "# 데이터 타입 변환\n",
    "mapping_train_df['order'] = mapping_train_df['order'].astype(int)\n",
    "mapping_train_df['product'] = mapping_train_df['product'].astype(int)\n",
    "mapping_train_df['label'] = mapping_train_df['label'].astype(int)\n",
    "# 조건에 맞는 행 필터링\n",
    "filtered_train_data = merged_df.merge(mapping_train_df, on=['order', 'product','label'], how='inner')\n",
    "\n",
    "print(filtered_train_data)"
   ]
  },
  {
   "cell_type": "code",
   "execution_count": 22,
   "id": "6cac7795",
   "metadata": {},
   "outputs": [],
   "source": [
    "filtered_train_data.to_csv('train_indexing.csv', index=False)"
   ]
  },
  {
   "cell_type": "code",
   "execution_count": null,
   "id": "f1189485",
   "metadata": {},
   "outputs": [],
   "source": []
  }
 ],
 "metadata": {
  "kernelspec": {
   "display_name": "Python 3 (ipykernel)",
   "language": "python",
   "name": "python3"
  },
  "language_info": {
   "codemirror_mode": {
    "name": "ipython",
    "version": 3
   },
   "file_extension": ".py",
   "mimetype": "text/x-python",
   "name": "python",
   "nbconvert_exporter": "python",
   "pygments_lexer": "ipython3",
   "version": "3.9.12"
  }
 },
 "nbformat": 4,
 "nbformat_minor": 5
}
